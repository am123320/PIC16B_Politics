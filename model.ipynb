{
 "cells": [
  {
   "cell_type": "code",
   "execution_count": 25,
   "metadata": {},
   "outputs": [],
   "source": [
    "from final_data import get_final_data\n",
    "from functions import percentage_within_threshold\n",
    "\n",
    "import pandas as pd\n",
    "import numpy as np\n",
    "from sklearn.ensemble import RandomForestRegressor, GradientBoostingRegressor\n",
    "from sklearn.linear_model import LinearRegression\n",
    "from sklearn.metrics import mean_squared_error\n",
    "from sklearn.model_selection import train_test_split\n",
    "from sklearn.preprocessing import StandardScaler"
   ]
  },
  {
   "cell_type": "code",
   "execution_count": 2,
   "metadata": {},
   "outputs": [
    {
     "name": "stderr",
     "output_type": "stream",
     "text": [
      "/Users/jennifermei/Documents/GitHub/PIC16B_Politics/final_data.py:50: UserWarning: Boolean Series key will be reindexed to match DataFrame index.\n",
      "  df_data = df_data[~remove_ca44]\n"
     ]
    }
   ],
   "source": [
    "data = get_final_data()"
   ]
  },
  {
   "cell_type": "code",
   "execution_count": 43,
   "metadata": {},
   "outputs": [
    {
     "data": {
      "text/html": [
       "<div>\n",
       "<style scoped>\n",
       "    .dataframe tbody tr th:only-of-type {\n",
       "        vertical-align: middle;\n",
       "    }\n",
       "\n",
       "    .dataframe tbody tr th {\n",
       "        vertical-align: top;\n",
       "    }\n",
       "\n",
       "    .dataframe thead th {\n",
       "        text-align: right;\n",
       "    }\n",
       "</style>\n",
       "<table border=\"1\" class=\"dataframe\">\n",
       "  <thead>\n",
       "    <tr style=\"text-align: right;\">\n",
       "      <th></th>\n",
       "      <th>Year</th>\n",
       "      <th>State</th>\n",
       "      <th>State Abbr</th>\n",
       "      <th>State FIPS</th>\n",
       "      <th>District</th>\n",
       "      <th>Democratic %</th>\n",
       "      <th>Republican %</th>\n",
       "      <th>Voter Turnout %</th>\n",
       "      <th>Median Age</th>\n",
       "      <th>Median income</th>\n",
       "      <th>...</th>\n",
       "      <th>Less than HS %</th>\n",
       "      <th>HS grad %</th>\n",
       "      <th>Some college %</th>\n",
       "      <th>Bachelor's degree %</th>\n",
       "      <th>Graduate degree %</th>\n",
       "      <th>Below poverty line %</th>\n",
       "      <th>Income under 25k %</th>\n",
       "      <th>Income 25k to 50k %</th>\n",
       "      <th>Income 50k to 75k %</th>\n",
       "      <th>Income above 75k %</th>\n",
       "    </tr>\n",
       "  </thead>\n",
       "  <tbody>\n",
       "    <tr>\n",
       "      <th>0</th>\n",
       "      <td>2014</td>\n",
       "      <td>Alabama</td>\n",
       "      <td>AL</td>\n",
       "      <td>1</td>\n",
       "      <td>1</td>\n",
       "      <td>31.71</td>\n",
       "      <td>68.16</td>\n",
       "      <td>28.48</td>\n",
       "      <td>38.7</td>\n",
       "      <td>23092</td>\n",
       "      <td>...</td>\n",
       "      <td>9.74</td>\n",
       "      <td>21.99</td>\n",
       "      <td>20.23</td>\n",
       "      <td>9.87</td>\n",
       "      <td>5.09</td>\n",
       "      <td>10.38</td>\n",
       "      <td>60.15</td>\n",
       "      <td>22.48</td>\n",
       "      <td>9.76</td>\n",
       "      <td>7.61</td>\n",
       "    </tr>\n",
       "    <tr>\n",
       "      <th>1</th>\n",
       "      <td>2014</td>\n",
       "      <td>Alabama</td>\n",
       "      <td>AL</td>\n",
       "      <td>1</td>\n",
       "      <td>2</td>\n",
       "      <td>32.56</td>\n",
       "      <td>67.34</td>\n",
       "      <td>31.59</td>\n",
       "      <td>37.8</td>\n",
       "      <td>22525</td>\n",
       "      <td>...</td>\n",
       "      <td>11.34</td>\n",
       "      <td>21.55</td>\n",
       "      <td>19.61</td>\n",
       "      <td>8.86</td>\n",
       "      <td>5.36</td>\n",
       "      <td>10.34</td>\n",
       "      <td>59.82</td>\n",
       "      <td>23.11</td>\n",
       "      <td>9.69</td>\n",
       "      <td>7.38</td>\n",
       "    </tr>\n",
       "    <tr>\n",
       "      <th>2</th>\n",
       "      <td>2014</td>\n",
       "      <td>Alabama</td>\n",
       "      <td>AL</td>\n",
       "      <td>1</td>\n",
       "      <td>3</td>\n",
       "      <td>33.72</td>\n",
       "      <td>66.12</td>\n",
       "      <td>28.89</td>\n",
       "      <td>37.7</td>\n",
       "      <td>21508</td>\n",
       "      <td>...</td>\n",
       "      <td>11.87</td>\n",
       "      <td>21.44</td>\n",
       "      <td>19.35</td>\n",
       "      <td>8.00</td>\n",
       "      <td>5.23</td>\n",
       "      <td>14.25</td>\n",
       "      <td>61.61</td>\n",
       "      <td>22.06</td>\n",
       "      <td>9.55</td>\n",
       "      <td>6.77</td>\n",
       "    </tr>\n",
       "    <tr>\n",
       "      <th>3</th>\n",
       "      <td>2014</td>\n",
       "      <td>Alabama</td>\n",
       "      <td>AL</td>\n",
       "      <td>1</td>\n",
       "      <td>4</td>\n",
       "      <td>0.00</td>\n",
       "      <td>98.57</td>\n",
       "      <td>25.38</td>\n",
       "      <td>40.5</td>\n",
       "      <td>20768</td>\n",
       "      <td>...</td>\n",
       "      <td>14.21</td>\n",
       "      <td>23.01</td>\n",
       "      <td>20.46</td>\n",
       "      <td>6.54</td>\n",
       "      <td>4.07</td>\n",
       "      <td>18.83</td>\n",
       "      <td>63.63</td>\n",
       "      <td>22.21</td>\n",
       "      <td>8.59</td>\n",
       "      <td>5.57</td>\n",
       "    </tr>\n",
       "    <tr>\n",
       "      <th>4</th>\n",
       "      <td>2014</td>\n",
       "      <td>Alabama</td>\n",
       "      <td>AL</td>\n",
       "      <td>1</td>\n",
       "      <td>5</td>\n",
       "      <td>0.00</td>\n",
       "      <td>74.42</td>\n",
       "      <td>28.23</td>\n",
       "      <td>38.8</td>\n",
       "      <td>25783</td>\n",
       "      <td>...</td>\n",
       "      <td>9.65</td>\n",
       "      <td>18.43</td>\n",
       "      <td>19.82</td>\n",
       "      <td>12.44</td>\n",
       "      <td>7.32</td>\n",
       "      <td>11.20</td>\n",
       "      <td>56.04</td>\n",
       "      <td>21.81</td>\n",
       "      <td>10.48</td>\n",
       "      <td>11.67</td>\n",
       "    </tr>\n",
       "  </tbody>\n",
       "</table>\n",
       "<p>5 rows × 30 columns</p>\n",
       "</div>"
      ],
      "text/plain": [
       "   Year    State State Abbr  State FIPS District  Democratic %  Republican %  \\\n",
       "0  2014  Alabama         AL           1        1         31.71         68.16   \n",
       "1  2014  Alabama         AL           1        2         32.56         67.34   \n",
       "2  2014  Alabama         AL           1        3         33.72         66.12   \n",
       "3  2014  Alabama         AL           1        4          0.00         98.57   \n",
       "4  2014  Alabama         AL           1        5          0.00         74.42   \n",
       "\n",
       "   Voter Turnout %  Median Age  Median income  ...  Less than HS %  HS grad %  \\\n",
       "0            28.48        38.7          23092  ...            9.74      21.99   \n",
       "1            31.59        37.8          22525  ...           11.34      21.55   \n",
       "2            28.89        37.7          21508  ...           11.87      21.44   \n",
       "3            25.38        40.5          20768  ...           14.21      23.01   \n",
       "4            28.23        38.8          25783  ...            9.65      18.43   \n",
       "\n",
       "   Some college %  Bachelor's degree %  Graduate degree %  \\\n",
       "0           20.23                 9.87               5.09   \n",
       "1           19.61                 8.86               5.36   \n",
       "2           19.35                 8.00               5.23   \n",
       "3           20.46                 6.54               4.07   \n",
       "4           19.82                12.44               7.32   \n",
       "\n",
       "   Below poverty line %  Income under 25k %  Income 25k to 50k %  \\\n",
       "0                 10.38               60.15                22.48   \n",
       "1                 10.34               59.82                23.11   \n",
       "2                 14.25               61.61                22.06   \n",
       "3                 18.83               63.63                22.21   \n",
       "4                 11.20               56.04                21.81   \n",
       "\n",
       "   Income 50k to 75k %  Income above 75k %  \n",
       "0                 9.76                7.61  \n",
       "1                 9.69                7.38  \n",
       "2                 9.55                6.77  \n",
       "3                 8.59                5.57  \n",
       "4                10.48               11.67  \n",
       "\n",
       "[5 rows x 30 columns]"
      ]
     },
     "execution_count": 43,
     "metadata": {},
     "output_type": "execute_result"
    }
   ],
   "source": [
    "data = data.dropna(axis=0)\n",
    "data.head()"
   ]
  },
  {
   "cell_type": "code",
   "execution_count": 62,
   "metadata": {},
   "outputs": [],
   "source": [
    "# features for training\n",
    "train_columns = ['Year', 'State FIPS', 'District', 'Voter Turnout %', 'Median Age', 'Median income',\n",
    "                 'Male Population %', 'Female Population %', 'White %', 'White (non Hispanic or Latino) %',\n",
    "                 'Hispanic or Latino %', 'Black %', 'American Indian %', 'Asian %', 'Pacific %', 'Multiracial %',\n",
    "                 'Less than HS %', 'HS grad %', 'Some college %', \"Bachelor's degree %\", \"Graduate degree %\",\n",
    "                 'Below poverty line %', 'Income under 25k %', 'Income 25k to 50k %', 'Income 50k to 75k %',\n",
    "                 'Income above 75k %']"
   ]
  },
  {
   "cell_type": "code",
   "execution_count": 63,
   "metadata": {},
   "outputs": [],
   "source": [
    "# features for training\n",
    "X = data[data['Year'] != 2020][train_columns].values\n",
    "\n",
    "# target variables\n",
    "y_dem = data[data['Year'] != 2020]['Democratic %'].values\n",
    "y_rep = data[data['Year'] != 2020]['Republican %'].values\n",
    "\n",
    "# normalize features\n",
    "scaler = StandardScaler()\n",
    "X = scaler.fit_transform(X)"
   ]
  },
  {
   "cell_type": "code",
   "execution_count": 64,
   "metadata": {},
   "outputs": [],
   "source": [
    "# 80% training, 20% validation\n",
    "X_train, X_val, y_train_dem, y_val_dem, y_train_rep, y_val_rep = train_test_split(\n",
    "    X, y_dem, y_rep, test_size=0.2, random_state=42\n",
    ")"
   ]
  },
  {
   "cell_type": "code",
   "execution_count": 65,
   "metadata": {},
   "outputs": [
    {
     "data": {
      "text/html": [
       "<style>#sk-container-id-2 {color: black;}#sk-container-id-2 pre{padding: 0;}#sk-container-id-2 div.sk-toggleable {background-color: white;}#sk-container-id-2 label.sk-toggleable__label {cursor: pointer;display: block;width: 100%;margin-bottom: 0;padding: 0.3em;box-sizing: border-box;text-align: center;}#sk-container-id-2 label.sk-toggleable__label-arrow:before {content: \"▸\";float: left;margin-right: 0.25em;color: #696969;}#sk-container-id-2 label.sk-toggleable__label-arrow:hover:before {color: black;}#sk-container-id-2 div.sk-estimator:hover label.sk-toggleable__label-arrow:before {color: black;}#sk-container-id-2 div.sk-toggleable__content {max-height: 0;max-width: 0;overflow: hidden;text-align: left;background-color: #f0f8ff;}#sk-container-id-2 div.sk-toggleable__content pre {margin: 0.2em;color: black;border-radius: 0.25em;background-color: #f0f8ff;}#sk-container-id-2 input.sk-toggleable__control:checked~div.sk-toggleable__content {max-height: 200px;max-width: 100%;overflow: auto;}#sk-container-id-2 input.sk-toggleable__control:checked~label.sk-toggleable__label-arrow:before {content: \"▾\";}#sk-container-id-2 div.sk-estimator input.sk-toggleable__control:checked~label.sk-toggleable__label {background-color: #d4ebff;}#sk-container-id-2 div.sk-label input.sk-toggleable__control:checked~label.sk-toggleable__label {background-color: #d4ebff;}#sk-container-id-2 input.sk-hidden--visually {border: 0;clip: rect(1px 1px 1px 1px);clip: rect(1px, 1px, 1px, 1px);height: 1px;margin: -1px;overflow: hidden;padding: 0;position: absolute;width: 1px;}#sk-container-id-2 div.sk-estimator {font-family: monospace;background-color: #f0f8ff;border: 1px dotted black;border-radius: 0.25em;box-sizing: border-box;margin-bottom: 0.5em;}#sk-container-id-2 div.sk-estimator:hover {background-color: #d4ebff;}#sk-container-id-2 div.sk-parallel-item::after {content: \"\";width: 100%;border-bottom: 1px solid gray;flex-grow: 1;}#sk-container-id-2 div.sk-label:hover label.sk-toggleable__label {background-color: #d4ebff;}#sk-container-id-2 div.sk-serial::before {content: \"\";position: absolute;border-left: 1px solid gray;box-sizing: border-box;top: 0;bottom: 0;left: 50%;z-index: 0;}#sk-container-id-2 div.sk-serial {display: flex;flex-direction: column;align-items: center;background-color: white;padding-right: 0.2em;padding-left: 0.2em;position: relative;}#sk-container-id-2 div.sk-item {position: relative;z-index: 1;}#sk-container-id-2 div.sk-parallel {display: flex;align-items: stretch;justify-content: center;background-color: white;position: relative;}#sk-container-id-2 div.sk-item::before, #sk-container-id-2 div.sk-parallel-item::before {content: \"\";position: absolute;border-left: 1px solid gray;box-sizing: border-box;top: 0;bottom: 0;left: 50%;z-index: -1;}#sk-container-id-2 div.sk-parallel-item {display: flex;flex-direction: column;z-index: 1;position: relative;background-color: white;}#sk-container-id-2 div.sk-parallel-item:first-child::after {align-self: flex-end;width: 50%;}#sk-container-id-2 div.sk-parallel-item:last-child::after {align-self: flex-start;width: 50%;}#sk-container-id-2 div.sk-parallel-item:only-child::after {width: 0;}#sk-container-id-2 div.sk-dashed-wrapped {border: 1px dashed gray;margin: 0 0.4em 0.5em 0.4em;box-sizing: border-box;padding-bottom: 0.4em;background-color: white;}#sk-container-id-2 div.sk-label label {font-family: monospace;font-weight: bold;display: inline-block;line-height: 1.2em;}#sk-container-id-2 div.sk-label-container {text-align: center;}#sk-container-id-2 div.sk-container {/* jupyter's `normalize.less` sets `[hidden] { display: none; }` but bootstrap.min.css set `[hidden] { display: none !important; }` so we also need the `!important` here to be able to override the default hidden behavior on the sphinx rendered scikit-learn.org. See: https://github.com/scikit-learn/scikit-learn/issues/21755 */display: inline-block !important;position: relative;}#sk-container-id-2 div.sk-text-repr-fallback {display: none;}</style><div id=\"sk-container-id-2\" class=\"sk-top-container\"><div class=\"sk-text-repr-fallback\"><pre>RandomForestRegressor(random_state=42)</pre><b>In a Jupyter environment, please rerun this cell to show the HTML representation or trust the notebook. <br />On GitHub, the HTML representation is unable to render, please try loading this page with nbviewer.org.</b></div><div class=\"sk-container\" hidden><div class=\"sk-item\"><div class=\"sk-estimator sk-toggleable\"><input class=\"sk-toggleable__control sk-hidden--visually\" id=\"sk-estimator-id-2\" type=\"checkbox\" checked><label for=\"sk-estimator-id-2\" class=\"sk-toggleable__label sk-toggleable__label-arrow\">RandomForestRegressor</label><div class=\"sk-toggleable__content\"><pre>RandomForestRegressor(random_state=42)</pre></div></div></div></div></div>"
      ],
      "text/plain": [
       "RandomForestRegressor(random_state=42)"
      ]
     },
     "execution_count": 65,
     "metadata": {},
     "output_type": "execute_result"
    }
   ],
   "source": [
    "# define and train random forest\n",
    "rf_dem = RandomForestRegressor(random_state=42)\n",
    "rf_dem.fit(X_train, y_train_dem)\n",
    "\n",
    "rf_rep = RandomForestRegressor(random_state=42)\n",
    "rf_rep.fit(X_train, y_train_rep)"
   ]
  },
  {
   "cell_type": "code",
   "execution_count": 66,
   "metadata": {},
   "outputs": [],
   "source": [
    "# predict on the validation sets\n",
    "predict_dem_rf = rf_dem.predict(X_val)\n",
    "predict_rep_rf = rf_rep.predict(X_val)\n",
    "\n",
    "# if predicting greater than 100, clip it\n",
    "predict_dem_rf = np.clip(predict_dem_rf, 0, 100)\n",
    "predict_rep_rf = np.clip(predict_rep_rf, 0, 100)"
   ]
  },
  {
   "cell_type": "code",
   "execution_count": 67,
   "metadata": {},
   "outputs": [],
   "source": [
    "# evaluate model performance using MSE\n",
    "mse_dem = mean_squared_error(y_val_dem, predict_dem_rf)\n",
    "mse_rep = mean_squared_error(y_val_rep, predict_rep_rf)"
   ]
  },
  {
   "cell_type": "code",
   "execution_count": 70,
   "metadata": {},
   "outputs": [
    {
     "name": "stdout",
     "output_type": "stream",
     "text": [
      "Using Random Forest: \n",
      "\n",
      "Mean Squared Error for Democratic % on Validation Set: 247.1330302277992\n",
      "Percentage of predictions within 5% for Democratic %: 20.08%\n",
      "Percentage of predictions within 10% for Democratic %: 40.93% \n",
      "\n",
      "Mean Squared Error for Republican % on Validation Set: 231.2745419953668\n",
      "Percentage of predictions within 5% for Republican %: 25.10%\n",
      "Percentage of predictions within 10% for Republican %: 42.86%\n"
     ]
    }
   ],
   "source": [
    "# print accuracy within 5% of actual and 10% of actual\n",
    "acc_5_dem = percentage_within_threshold(y_val_dem, predict_dem_rf, threshold_percent=5)\n",
    "acc_10_dem = percentage_within_threshold(y_val_dem, predict_dem_rf, threshold_percent=10)\n",
    "acc_5_rep = percentage_within_threshold(y_val_rep, predict_rep_rf, threshold_percent=5)\n",
    "acc_10_rep = percentage_within_threshold(y_val_rep, predict_rep_rf, threshold_percent=10)\n",
    "\n",
    "print(\"Using Random Forest: \\n\")\n",
    "print(\"Mean Squared Error for Democratic % on Validation Set:\", mse_dem)\n",
    "print(f\"Percentage of predictions within 5% for Democratic %: {acc_5_dem:.2f}%\")\n",
    "print(f\"Percentage of predictions within 10% for Democratic %: {acc_10_dem:.2f}% \\n\")\n",
    "print(\"Mean Squared Error for Republican % on Validation Set:\", mse_rep)\n",
    "print(f\"Percentage of predictions within 5% for Republican %: {acc_5_rep:.2f}%\")\n",
    "print(f\"Percentage of predictions within 10% for Republican %: {acc_10_rep:.2f}%\")"
   ]
  }
 ],
 "metadata": {
  "kernelspec": {
   "display_name": "Python 3",
   "language": "python",
   "name": "python3"
  },
  "language_info": {
   "codemirror_mode": {
    "name": "ipython",
    "version": 3
   },
   "file_extension": ".py",
   "mimetype": "text/x-python",
   "name": "python",
   "nbconvert_exporter": "python",
   "pygments_lexer": "ipython3",
   "version": "3.10.9"
  }
 },
 "nbformat": 4,
 "nbformat_minor": 2
}
